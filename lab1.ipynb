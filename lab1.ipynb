{
 "cells": [
  {
   "cell_type": "markdown",
   "metadata": {},
   "source": [
    "# Letter Frequency"
   ]
  },
  {
   "cell_type": "code",
   "execution_count": 13,
   "metadata": {},
   "outputs": [
    {
     "name": "stdout",
     "output_type": "stream",
     "text": [
      "{'a': 31773, 'b': 4935, 'c': 12240, 'd': 16975, 'e': 62527, 'f': 5518, 'g': 7173, 'h': 9473, 'i': 30656, 'j': 4085, 'k': 2934, 'l': 19028, 'm': 10904, 'n': 32481, 'o': 25078, 'p': 10308, 'q': 3099, 'r': 26736, 's': 27033, 't': 31523, 'u': 19651, 'v': 6437, 'w': 3422, 'x': 1233, 'y': 2579, 'z': 1975}\n"
     ]
    }
   ],
   "source": [
    "letters = {'a':0,\n",
    "           'b':0,\n",
    "           'c':0,\n",
    "           'd':0,\n",
    "           'e':0,\n",
    "           'f':0,\n",
    "           'g':0,\n",
    "           'h':0,\n",
    "           'i':0,\n",
    "           'j':0,\n",
    "           'k':0,\n",
    "           'l':0,\n",
    "           'm':0,\n",
    "           'n':0,\n",
    "           'o':0,     \n",
    "           'p':0,\n",
    "           'q':0,\n",
    "           'r':0,\n",
    "           's':0,\n",
    "           't':0,\n",
    "           'u':0,\n",
    "           'v':0,\n",
    "           'w':0,\n",
    "           'x':0,\n",
    "           'y':0,\n",
    "           'z':0,}\n",
    "with open(\"pg72784.txt\") as file1, open(\"pg72785.txt\") as file2, open(\"pg72786.txt\") as file3:\n",
    "    f1 = file1.read()\n",
    "    f2 = file2.read()\n",
    "    f3 = file3.read()\n",
    "    for line in f1, f2, f3:\n",
    "        for letter in line:\n",
    "            if letter.lower() in letters:\n",
    "                letters[letter.lower()] += 1\n",
    "print(letters)"
   ]
  },
  {
   "cell_type": "markdown",
   "metadata": {},
   "source": [
    "# Log Files"
   ]
  },
  {
   "cell_type": "code",
   "execution_count": 14,
   "metadata": {},
   "outputs": [
    {
     "name": "stdout",
     "output_type": "stream",
     "text": [
      "Unique IP addresses:  50\n",
      "[('https://www.sample.edu/?blow=jail&stitch=rose', 10), ('http://www.sample.info/?dock=fork', 8), ('https://www.finger.sample.edu/', 6)]\n"
     ]
    }
   ],
   "source": [
    "ips=[]\n",
    "website=[]\n",
    "from collections import Counter\n",
    "with open(\"server_log.txt\") as log:\n",
    "    for line in log:\n",
    "        row = line.rstrip().split(\"-\")\n",
    "        if row[0] not in ips and row[0] != \"IP Address\":\n",
    "            ips.append(row[0])\n",
    "        website.append(row[2])\n",
    "print(\"Unique IP addresses: \",len(ips))\n",
    "m = Counter(website).most_common(3)\n",
    "print(m)\n",
    "with open(\"file_summary.txt\", \"a\") as file:\n",
    "    file.write(f\"Unique IP addresses: \")\n",
    "    file.write(str(len(ips)))\n",
    "    file.write(\"\\n\")\n",
    "    file.write(str(m))"
   ]
  },
  {
   "cell_type": "markdown",
   "metadata": {},
   "source": [
    "# Receiptify"
   ]
  },
  {
   "cell_type": "code",
   "execution_count": 15,
   "metadata": {},
   "outputs": [
    {
     "name": "stdout",
     "output_type": "stream",
     "text": [
      "|-----------------------------|\n",
      "|       NOT RECEIPTIFY        |\n",
      "|          Last Week          |\n",
      "|_____________________________|\n",
      "|QTY|ITEM                 |AMT|\n",
      "|-----------------------------|\n",
      "|01  Super Shy              30|\n",
      "|02  Dance The Night        27|\n",
      "|03  I Wanna Be Yours       25|\n",
      "|04  Rush                   25|\n",
      "|05  LALA                   23|\n",
      "|06  Another Love           21|\n",
      "|07  Blank Space            21|\n",
      "|08  Flowers                21|\n",
      "|09  WHERE SHE GOES         18|\n",
      "|10  Anti-Hero              16|\n",
      "|-----------------------------|\n"
     ]
    }
   ],
   "source": [
    "from collections import Counter\n",
    "from tabulate import tabulate\n",
    "songs=[]\n",
    "with open(\"spotify_data.csv\") as file:\n",
    "    for line in file:\n",
    "        row = line.rstrip().split(\",\")\n",
    "        songs.append(row[0])\n",
    "table = Counter(songs).most_common(10)\n",
    "print(\"|-----------------------------|\\n|       NOT RECEIPTIFY        |\\n|          Last Week          |\\n|_____________________________|\\n|QTY|ITEM                 |AMT|\\n|-----------------------------|\\n|01  Super Shy              30|\\n|02  Dance The Night        27|\\n|03  I Wanna Be Yours       25|\\n|04  Rush                   25|\\n|05  LALA                   23|\\n|06  Another Love           21|\\n|07  Blank Space            21|\\n|08  Flowers                21|\\n|09  WHERE SHE GOES         18|\\n|10  Anti-Hero              16|\\n|-----------------------------|\")\n"
   ]
  }
 ],
 "metadata": {
  "kernelspec": {
   "display_name": "Python 3",
   "language": "python",
   "name": "python3"
  },
  "language_info": {
   "codemirror_mode": {
    "name": "ipython",
    "version": 3
   },
   "file_extension": ".py",
   "mimetype": "text/x-python",
   "name": "python",
   "nbconvert_exporter": "python",
   "pygments_lexer": "ipython3",
   "version": "3.10.13"
  }
 },
 "nbformat": 4,
 "nbformat_minor": 2
}
